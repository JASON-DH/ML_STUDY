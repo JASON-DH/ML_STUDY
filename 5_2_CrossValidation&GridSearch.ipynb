{
  "nbformat": 4,
  "nbformat_minor": 0,
  "metadata": {
    "colab": {
      "name": "5_2_CrossValidation&GridSearch.ipynb",
      "provenance": [],
      "collapsed_sections": [],
      "authorship_tag": "ABX9TyO6TSvPaZOAgJKcAtW+keJk"
    },
    "kernelspec": {
      "name": "python3",
      "display_name": "Python 3"
    },
    "language_info": {
      "name": "python"
    }
  },
  "cells": [
    {
      "cell_type": "code",
      "execution_count": 29,
      "metadata": {
        "id": "ouiGh9p6bjA9"
      },
      "outputs": [],
      "source": [
        "#데이터 세트 준비 \n",
        "import pandas as pd\n",
        "wine = pd.read_csv('https://bit.ly/wine_csv_data') # 판다스로 csv읽어오고\n",
        "data = wine[['alcohol', 'sugar', 'pH']].to_numpy() # 넘파이 데이터 프레임으로 data에 저장\n",
        "target = wine['class'].to_numpy()  #  class는 타겟 값으로 저장"
      ]
    },
    {
      "cell_type": "code",
      "source": [
        "# 훈련세트 테스트 세트 나누기\n",
        "from sklearn.model_selection import train_test_split\n",
        "train_input, test_input, train_target, test_target = train_test_split(\n",
        "    data, target, test_size = 0.2 , random_state =42\n",
        ")"
      ],
      "metadata": {
        "id": "YX1v1dSWfzvr"
      },
      "execution_count": 30,
      "outputs": []
    },
    {
      "cell_type": "code",
      "source": [
        "# 훈련세트를 -> sub훈련세트 , 검증세트로 나누기\n",
        "sub_input, val_input, sub_target, val_target = train_test_split(\n",
        "    train_input, train_target, test_size = 0.2, random_state = 42\n",
        ")"
      ],
      "metadata": {
        "id": "6EDpUTU_gItg"
      },
      "execution_count": 31,
      "outputs": []
    },
    {
      "cell_type": "code",
      "source": [
        "print(sub_input.shape, val_input.shape)"
      ],
      "metadata": {
        "colab": {
          "base_uri": "https://localhost:8080/"
        },
        "id": "qp98mfP7gs2e",
        "outputId": "31a57859-4087-4ed1-ab60-0f23716eb5c0"
      },
      "execution_count": 32,
      "outputs": [
        {
          "output_type": "stream",
          "name": "stdout",
          "text": [
            "(4157, 3) (1040, 3)\n"
          ]
        }
      ]
    },
    {
      "cell_type": "code",
      "source": [
        "# sub, 과 검증 세트로 모델을 만들고 평가\n",
        "from sklearn.tree import DecisionTreeClassifier\n",
        "dt = DecisionTreeClassifier(random_state = 42)\n",
        "dt.fit(sub_input, sub_target)\n",
        "print(dt.score(sub_input, sub_target))\n",
        "print(dt.score(val_input, val_target))\n",
        "# 훈련세트에 과대적합 되어있음\n",
        "# 매개 변수 바꿔서 더 좋은 모델 찾아야함"
      ],
      "metadata": {
        "colab": {
          "base_uri": "https://localhost:8080/"
        },
        "id": "Ji1ndqEWg3H7",
        "outputId": "8062a2f4-8a06-4b71-8c19-89f8cf4067ba"
      },
      "execution_count": 33,
      "outputs": [
        {
          "output_type": "stream",
          "name": "stdout",
          "text": [
            "0.9971133028626413\n",
            "0.864423076923077\n"
          ]
        }
      ]
    },
    {
      "cell_type": "markdown",
      "source": [
        "---\n",
        "### 교차 검증 = cross_validate(\n",
        "##### : 검증세트를 떼어 평가하는 과정을 여러번 반복 \n",
        "-> 이 점수를 평균하여 최종 검증 점수 얻음\n",
        "##### : 입력한 모델에서 얻을 수 있는 최상의 검증 점수를 가늠해 볼 수 있음\n",
        "* 많은 데이터를 훈련에 사용하면 좋은 모델이 됨\n",
        "* 그렇다고 검증 세트가 너무 조금이면 검증점수가 들쭉날쭉함\n",
        "* 이럴 때 교차 검증을 이용하면\n",
        "#### 안정적인 검증 점수를 얻고 훈련에 더 많은 데이터를 사용할 수 있음\n",
        "---\n",
        "### 3-폴드 교차 검증(k-폴드 교차검증)\n",
        "훈련 세트를 세 부분으로 나눠서 검증을 수행\n",
        "* 주로 5폴드 10폴드 교차검증 많이 사용\n",
        "* 이렇게 하면 데이터의 80~90퍼를 훈련에 사용할 수 있음"
      ],
      "metadata": {
        "id": "hbHjuqlyhgM7"
      }
    },
    {
      "cell_type": "code",
      "source": [
        "from sklearn.model_selection import cross_validate\n",
        "scores = cross_validate(dt, train_input, train_target)\n",
        "print(scores)\n",
        "# fit time, score time  시간\n",
        "# test score : 검증폴드 최종점수 "
      ],
      "metadata": {
        "colab": {
          "base_uri": "https://localhost:8080/"
        },
        "id": "1misrS91kR01",
        "outputId": "7eed4d40-1067-444e-87f4-6c46923e8b9c"
      },
      "execution_count": 34,
      "outputs": [
        {
          "output_type": "stream",
          "name": "stdout",
          "text": [
            "{'fit_time': array([0.01094127, 0.0070405 , 0.00735402, 0.00729752, 0.00789309]), 'score_time': array([0.00078106, 0.00069857, 0.00072217, 0.00071692, 0.00073862]), 'test_score': array([0.86923077, 0.84615385, 0.87680462, 0.84889317, 0.83541867])}\n"
          ]
        }
      ]
    },
    {
      "cell_type": "code",
      "source": [
        "import numpy as np\n",
        "print(np.mean(scores['test_score']))"
      ],
      "metadata": {
        "colab": {
          "base_uri": "https://localhost:8080/"
        },
        "id": "H1iXTcJ0rEx6",
        "outputId": "60d2f3dd-8b4a-4c06-eada-666fca2126b5"
      },
      "execution_count": 35,
      "outputs": [
        {
          "output_type": "stream",
          "name": "stdout",
          "text": [
            "0.855300214703487\n"
          ]
        }
      ]
    },
    {
      "cell_type": "code",
      "source": [
        "# 교차 검증은 훈련세트를 섞지않음 \n",
        "# StratifiedKFold = 교차검증에서 폴드를 어떻게 나눌지 결정\n",
        "from sklearn.model_selection import StratifiedKFold\n",
        "scores = cross_validate(dt, train_input, train_target, cv = StratifiedKFold())\n",
        "print(np.mean(scores['test_score']))"
      ],
      "metadata": {
        "colab": {
          "base_uri": "https://localhost:8080/"
        },
        "id": "_hFVeHgSu3z3",
        "outputId": "72b1c5a2-f885-494d-ef58-f2c874b3f922"
      },
      "execution_count": 36,
      "outputs": [
        {
          "output_type": "stream",
          "name": "stdout",
          "text": [
            "0.855300214703487\n"
          ]
        }
      ]
    },
    {
      "cell_type": "code",
      "source": [
        "# 훈련세트를 섞은 후 10-폴드 교차검증 수행하기\n",
        "splitter = StratifiedKFold(n_splits =10, shuffle = True, random_state = 42) # n_split =  몇 폴드 교차 검증인지\n",
        "scores = cross_validate(dt, train_input, train_target, cv=splitter)\n",
        "print(np.mean(scores['test_score']))"
      ],
      "metadata": {
        "colab": {
          "base_uri": "https://localhost:8080/"
        },
        "id": "241H0tZbxLO0",
        "outputId": "b7f7bc56-8dd5-4006-db60-a54c0be40a05"
      },
      "execution_count": 37,
      "outputs": [
        {
          "output_type": "stream",
          "name": "stdout",
          "text": [
            "0.8574181117533719\n"
          ]
        }
      ]
    },
    {
      "cell_type": "markdown",
      "source": [
        "---\n",
        "### 하이퍼 파라미터 튜닝\n",
        " \n",
        "#### 그리드 서치\n",
        "* GridSearchCV 클래스는 하이퍼 파라미터 탐색과 교차검증을 한 번에 수행\n",
        "* 즉, 매개변수를 일일이 바꿔가며 교차 검증을 수행할 필요없음. \n",
        "* 원하는 매개변수 값을 나열하면 자동으로 교차검증을 수행해서 최상의 매개변수를 찾을 수 있음\n"
      ],
      "metadata": {
        "id": "OfbJ5x3Uxy8G"
      }
    },
    {
      "cell_type": "code",
      "source": [
        "from sklearn.model_selection import GridSearchCV  # 그리드 서치 임포트\n",
        "params = {'min_impurity_decrease': [0.0001, 0.0002, 0.0003, 0.0004, 0.0005]} # min_impurity_decrease의 최적 값을 찾아보고자 함\n",
        "                                                                             # 탐색할 매개변수와 탐색할 값의 리스트를 딕셔너리로 만듬"
      ],
      "metadata": {
        "id": "3S3F2CcOXdOQ"
      },
      "execution_count": 38,
      "outputs": []
    },
    {
      "cell_type": "code",
      "source": [
        "gs = GridSearchCV(DecisionTreeClassifier(random_state = 42), params, n_jobs = -1) # 그리드 서치 객체 만들기\n",
        "                  # 탐색 대상 모델                          # params변수 전달 # 병렬 실행에 사용할 CPU 코어 수 지정, : -1은 모든 코어 사용"
      ],
      "metadata": {
        "id": "IJr4YAhoXm8H"
      },
      "execution_count": 39,
      "outputs": []
    },
    {
      "cell_type": "code",
      "source": [
        "gs.fit(train_input, train_target)"
      ],
      "metadata": {
        "colab": {
          "base_uri": "https://localhost:8080/"
        },
        "id": "W3pzUpvtZLG0",
        "outputId": "631b12d2-c5a0-4a9d-f391-bd0e04213907"
      },
      "execution_count": 40,
      "outputs": [
        {
          "output_type": "execute_result",
          "data": {
            "text/plain": [
              "GridSearchCV(estimator=DecisionTreeClassifier(random_state=42), n_jobs=-1,\n",
              "             param_grid={'min_impurity_decrease': [0.0001, 0.0002, 0.0003,\n",
              "                                                   0.0004, 0.0005]})"
            ]
          },
          "metadata": {},
          "execution_count": 40
        }
      ]
    },
    {
      "cell_type": "markdown",
      "source": [
        "* 그리드 서치 cv 기본값은 5이므로 min_impurity_decrease rkqtakek 5폴드 교차검증을 수행\n",
        ": 따라서 총 25개의 모델을 훈련함\n",
        "\n",
        "* 그리드 서치는 훈련이 끝나면 25개의 모델 중에서 검증 점수가 가장 높은 모델의 매개변수 조합으로 전체 훈련 세트에서 자동으로 다시 모델을 훈련 시킴\n",
        "* 이 최적의 모델은 gs객체의 best_estimator_ 속성에 저장되어 있음 \n",
        "* 그리드 서치로 찾은 최적의 매개변수는 best_params_ 속성에 저장되어 있음\n",
        "* 교차 검증의 평균 점수는 cv_results_의 mean_test_score 에 저장"
      ],
      "metadata": {
        "id": "Nu6qK14QZSiv"
      }
    },
    {
      "cell_type": "code",
      "source": [
        "dt = gs.best_estimator_ # 이 최적의 모델은 gs객체의 best_estimator_ 속성에 저장되어 있음 \n",
        "print(dt.score(train_input, train_target))"
      ],
      "metadata": {
        "colab": {
          "base_uri": "https://localhost:8080/"
        },
        "id": "V3_1h56cZ2oy",
        "outputId": "df4d7a3f-0b38-405c-999a-712df0292c09"
      },
      "execution_count": 41,
      "outputs": [
        {
          "output_type": "stream",
          "name": "stdout",
          "text": [
            "0.9615162593804117\n"
          ]
        }
      ]
    },
    {
      "cell_type": "markdown",
      "source": [
        "그리드 서치로 찾은 최적의 매개변수는 best_params_ 속성에 저장되어 있음\n"
      ],
      "metadata": {
        "id": "ZhSpZBw6aQWr"
      }
    },
    {
      "cell_type": "code",
      "source": [
        "print(gs.best_params_) # 가장 좋은 값으로 0.0001이 선택됨"
      ],
      "metadata": {
        "colab": {
          "base_uri": "https://localhost:8080/"
        },
        "id": "Jg43FWyAa4RZ",
        "outputId": "38a90ce7-aa3a-4b47-9cf6-da47cc5d8e88"
      },
      "execution_count": 42,
      "outputs": [
        {
          "output_type": "stream",
          "name": "stdout",
          "text": [
            "{'min_impurity_decrease': 0.0001}\n"
          ]
        }
      ]
    },
    {
      "cell_type": "code",
      "source": [
        "print(gs.cv_results_['mean_test_score']) # 교차 검증의 평균 점수는 cv_results_의 mean_test_score 에 저장"
      ],
      "metadata": {
        "colab": {
          "base_uri": "https://localhost:8080/"
        },
        "id": "EHPzf3Zpfl8B",
        "outputId": "ed19bca1-db55-44f7-97a2-a606ef4fc23e"
      },
      "execution_count": 43,
      "outputs": [
        {
          "output_type": "stream",
          "name": "stdout",
          "text": [
            "[0.86819297 0.86453617 0.86492226 0.86780891 0.86761605]\n"
          ]
        }
      ]
    },
    {
      "cell_type": "code",
      "source": [
        "best_index = np.argmax(gs.cv_results_['mean_test_score']) # argmax로 best index 저장 후\n",
        "print(gs.cv_results_['params'][best_index])              # best index를 params 인데스 안에서 찾아서 출력"
      ],
      "metadata": {
        "colab": {
          "base_uri": "https://localhost:8080/"
        },
        "id": "BDCS1wtDfsek",
        "outputId": "36ae0a82-f3d4-41ad-a726-78e51b9adf78"
      },
      "execution_count": 44,
      "outputs": [
        {
          "output_type": "stream",
          "name": "stdout",
          "text": [
            "{'min_impurity_decrease': 0.0001}\n"
          ]
        }
      ]
    },
    {
      "cell_type": "code",
      "source": [
        "# 더 복잡한 매개변수 조합을 탐색해보기\n",
        "# min_impurity_decrease는 노드를 나누기 위한 불순도 감소 최소량을 지정\n",
        "# max_depth로 트리의 깊이 제한\n",
        "# min_samples_split 노드를 나누기 위한 최소 샘플 수 \n",
        "params = {'min_impurity_decrease':np.arange(0.0001, 0.001, 0.0001), # 넘파이의 arange 함수 = 0.0001 -> 0.001 까지 0.0001씩 증가하는 배열을 만듬 = 0.001 빼고 총 9개\n",
        "          'max_depth':range(5, 20, 1),                              # 파이썬의 range 함수(only정수) = 5 -> 20(5~19) 까지 1식 증가하는 배열을 만듬 = 총 15개\n",
        "          'min_samples_split':range(2, 100, 10)                     # (2~92) 10개\n",
        "          }\n",
        "\n",
        "          # 총 9 * 15 * 10 에 5폴드 니까 *5 = 6750개의 모델 수가 만들어짐 "
      ],
      "metadata": {
        "id": "sLwIpNMyhHN0"
      },
      "execution_count": 45,
      "outputs": []
    },
    {
      "cell_type": "code",
      "source": [
        "gs = GridSearchCV(DecisionTreeClassifier(random_state = 42), params, n_jobs = -1)\n",
        "gs.fit(train_input, train_target)"
      ],
      "metadata": {
        "colab": {
          "base_uri": "https://localhost:8080/"
        },
        "id": "Ofnb2sZgiHPl",
        "outputId": "a9343fd8-7e29-4db1-c18b-15450d48bf10"
      },
      "execution_count": 46,
      "outputs": [
        {
          "output_type": "execute_result",
          "data": {
            "text/plain": [
              "GridSearchCV(estimator=DecisionTreeClassifier(random_state=42), n_jobs=-1,\n",
              "             param_grid={'max_depth': range(5, 20),\n",
              "                         'min_impurity_decrease': array([0.0001, 0.0002, 0.0003, 0.0004, 0.0005, 0.0006, 0.0007, 0.0008,\n",
              "       0.0009]),\n",
              "                         'min_samples_split': range(2, 100, 10)})"
            ]
          },
          "metadata": {},
          "execution_count": 46
        }
      ]
    },
    {
      "cell_type": "code",
      "source": [
        "print(gs.best_params_) # 최상의 매개변수 조합"
      ],
      "metadata": {
        "colab": {
          "base_uri": "https://localhost:8080/"
        },
        "id": "ZbUbQunIkX7G",
        "outputId": "d5ce8834-65b0-4b10-b667-067dae8cb97b"
      },
      "execution_count": 47,
      "outputs": [
        {
          "output_type": "stream",
          "name": "stdout",
          "text": [
            "{'max_depth': 14, 'min_impurity_decrease': 0.0004, 'min_samples_split': 12}\n"
          ]
        }
      ]
    },
    {
      "cell_type": "code",
      "source": [
        "print(np.max(gs.cv_results_['mean_test_score'])) # 최상의 교차 검증 점수"
      ],
      "metadata": {
        "colab": {
          "base_uri": "https://localhost:8080/"
        },
        "id": "N_oZoB-8khYs",
        "outputId": "c1540cad-83a3-4873-9307-c35a2d3caec4"
      },
      "execution_count": 48,
      "outputs": [
        {
          "output_type": "stream",
          "name": "stdout",
          "text": [
            "0.8683865773302731\n"
          ]
        }
      ]
    },
    {
      "cell_type": "markdown",
      "source": [
        "---\n",
        "### 랜덤서치\n",
        "* 매개변수의 값이 수치일 때, 값의 범위나 탐색 간격을 임의로 정하기 어려움\n",
        "* 또 너무 많은 매개변수 조건이 있어도 그리드 서치 수행 시간이 오래 걸릴 수 있다는 문제 \n",
        "* 그럴 때 랜덤 서치 방법을 사용하면 좋음\n",
        "\n",
        "* 랜덤 서치는 탐색하고자하는 매개변수 값의 목록을 전달하는 것이 아니라,\n",
        "* 매개변수를 샘플링 할 수 있는 확률 분포를 객체를 전달함"
      ],
      "metadata": {
        "id": "VDHN15krk-l0"
      }
    },
    {
      "cell_type": "code",
      "source": [
        "from scipy.stats import uniform, randint # scipy 는 적분, 보간, 선형 대수, 확률 등의 수치 계산 전용 라이브러리\n",
        "# uniform 과 randint 는 모두 주어진 범위에서 고르게 값을 뽑아옴 -> 균등분포에서 샘플링\n",
        "# randint 는 정수값을\n",
        "# uniform 은 실수값을 뽑음"
      ],
      "metadata": {
        "id": "Hq9Lk0DJmcM6"
      },
      "execution_count": 49,
      "outputs": []
    },
    {
      "cell_type": "code",
      "source": [
        "rgen = randint(0,10)  # 0~10사이의 숫자중\n",
        "rgen.rvs(10) # 10개 랜덤 샘플링"
      ],
      "metadata": {
        "colab": {
          "base_uri": "https://localhost:8080/"
        },
        "id": "F1tfVhQu9CGd",
        "outputId": "5de4012c-3583-4603-d260-b40a41ab038b"
      },
      "execution_count": 50,
      "outputs": [
        {
          "output_type": "execute_result",
          "data": {
            "text/plain": [
              "array([8, 6, 7, 5, 4, 4, 2, 5, 9, 5])"
            ]
          },
          "metadata": {},
          "execution_count": 50
        }
      ]
    },
    {
      "cell_type": "code",
      "source": [
        "np.unique(rgen.rvs(1000), return_counts = True)\n",
        "#  0~9 까지의 숫자를 1000개 샘플링 해서 각 숫자마다 얼마나 뽑혔는지 산출되도록 해보면 고르게 샘플링 된다는 것을 알 수 있음"
      ],
      "metadata": {
        "colab": {
          "base_uri": "https://localhost:8080/"
        },
        "id": "rqfjoxZy9NXq",
        "outputId": "94e908af-df1b-4cd1-bd6f-08aad1daf58a"
      },
      "execution_count": 51,
      "outputs": [
        {
          "output_type": "execute_result",
          "data": {
            "text/plain": [
              "(array([0, 1, 2, 3, 4, 5, 6, 7, 8, 9]),\n",
              " array([105, 105, 107,  85,  85, 103,  99,  86, 100, 125]))"
            ]
          },
          "metadata": {},
          "execution_count": 51
        }
      ]
    },
    {
      "cell_type": "code",
      "source": [
        "params = {'min_impurity_decrease' : uniform(0.0001, 0.001),\n",
        "          'max_depth' : randint(20,50),\n",
        "          'min_samples_split': randint(2,25),\n",
        "          'min_samples_leaf': randint(1,25),}\n"
      ],
      "metadata": {
        "id": "eGkbEB4hIwEA"
      },
      "execution_count": 52,
      "outputs": []
    },
    {
      "cell_type": "code",
      "source": [
        "from sklearn.model_selection import RandomizedSearchCV\n",
        "gs = RandomizedSearchCV(DecisionTreeClassifier(random_state = 42), params,\n",
        "                        n_iter = 100, n_jobs = -1, random_state = 42)\n",
        "gs.fit(train_input, train_target)\n",
        "# params에서 정의된 매개변수 범위에서 총 100번 샘플링 하여 교차 검증을 수행 -> 최적의 매개변수 조합을 찾음\n",
        "# 앞에서의 그리드 서치보다 훨씬 교차 검증 수를 줄이면서 넓은 영역을 효과적으로 탐색 가능"
      ],
      "metadata": {
        "colab": {
          "base_uri": "https://localhost:8080/"
        },
        "id": "haZ269hnRfhu",
        "outputId": "7cb3cfa0-3288-4247-b32c-5a4c419f5d38"
      },
      "execution_count": 56,
      "outputs": [
        {
          "output_type": "execute_result",
          "data": {
            "text/plain": [
              "RandomizedSearchCV(estimator=DecisionTreeClassifier(random_state=42),\n",
              "                   n_iter=100, n_jobs=-1,\n",
              "                   param_distributions={'max_depth': <scipy.stats._distn_infrastructure.rv_frozen object at 0x7f6561c6e8d0>,\n",
              "                                        'min_impurity_decrease': <scipy.stats._distn_infrastructure.rv_frozen object at 0x7f6561c6ee90>,\n",
              "                                        'min_samples_leaf': <scipy.stats._distn_infrastructure.rv_frozen object at 0x7f6561b531d0>,\n",
              "                                        'min_samples_split': <scipy.stats._distn_infrastructure.rv_frozen object at 0x7f6561c6e450>},\n",
              "                   random_state=42)"
            ]
          },
          "metadata": {},
          "execution_count": 56
        }
      ]
    },
    {
      "cell_type": "code",
      "source": [
        "print(gs.best_params_) # 최적의 매개변수 조합"
      ],
      "metadata": {
        "colab": {
          "base_uri": "https://localhost:8080/"
        },
        "id": "ZScvEoHitfxe",
        "outputId": "71c6d22a-d333-4171-f202-f25008c95150"
      },
      "execution_count": 57,
      "outputs": [
        {
          "output_type": "stream",
          "name": "stdout",
          "text": [
            "{'max_depth': 39, 'min_impurity_decrease': 0.00034102546602601173, 'min_samples_leaf': 7, 'min_samples_split': 13}\n"
          ]
        }
      ]
    },
    {
      "cell_type": "code",
      "source": [
        "print(np.max(gs.cv_results_['mean_test_score'])) # 최고의 교차 검증 점수"
      ],
      "metadata": {
        "colab": {
          "base_uri": "https://localhost:8080/"
        },
        "id": "FVFH5hLqtiWK",
        "outputId": "c76ba398-00cc-4618-e869-0fb4451d9c7e"
      },
      "execution_count": 60,
      "outputs": [
        {
          "output_type": "stream",
          "name": "stdout",
          "text": [
            "0.8695428296438884\n"
          ]
        }
      ]
    },
    {
      "cell_type": "code",
      "source": [
        "dt = gs.best_estimator_ # 최적의 모델은 이미 전체 훈련세트로 train_input train_target으로 훈련되어 best_estimator_ 속성에 저장됨\n",
        "print(dt.score(test_input, test_target)) # 최종모델로 결정 후 테스트 세트의 성능 확인"
      ],
      "metadata": {
        "colab": {
          "base_uri": "https://localhost:8080/"
        },
        "id": "S599m76dvaH5",
        "outputId": "8dc85f34-e984-4914-d93d-5c79eea65bcc"
      },
      "execution_count": 61,
      "outputs": [
        {
          "output_type": "stream",
          "name": "stdout",
          "text": [
            "0.86\n"
          ]
        }
      ]
    },
    {
      "cell_type": "markdown",
      "source": [
        "테스트 세트 점수 < 검증세트 보다 조금 작은 것이 일반적임\n",
        "다양한 매개변수를 테스트 해서 얻은 결과인 점이 중요\n",
        "\n",
        "### 결론 : 수동으로 매개변수를 바꾸지 말고, 그리드 서치나 랜덤 서치를 사용"
      ],
      "metadata": {
        "id": "PYr31oXrwHOt"
      }
    },
    {
      "cell_type": "code",
      "source": [
        ""
      ],
      "metadata": {
        "id": "mxjTxN0jwYvP"
      },
      "execution_count": null,
      "outputs": []
    }
  ]
}