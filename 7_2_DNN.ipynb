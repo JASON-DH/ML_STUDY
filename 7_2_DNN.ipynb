{
  "nbformat": 4,
  "nbformat_minor": 0,
  "metadata": {
    "colab": {
      "name": "7_2_DNN.ipynb",
      "provenance": [],
      "collapsed_sections": [],
      "authorship_tag": "ABX9TyPCoLPtMMR1+Pni9MzQf964"
    },
    "kernelspec": {
      "name": "python3",
      "display_name": "Python 3"
    },
    "language_info": {
      "name": "python"
    }
  },
  "cells": [
    {
      "cell_type": "markdown",
      "source": [
        "### 2개의 층"
      ],
      "metadata": {
        "id": "bH-RVIQZxBhq"
      }
    },
    {
      "cell_type": "code",
      "source": [
        "from tensorflow import keras\n",
        "(train_input, train_target), (test_input, test_target) = \\\n",
        "keras.datasets.fashion_mnist.load_data()"
      ],
      "metadata": {
        "colab": {
          "base_uri": "https://localhost:8080/"
        },
        "id": "LzKjBDVozy5G",
        "outputId": "e01bbe96-4baf-414b-ba29-b0f3efff2f80"
      },
      "execution_count": 2,
      "outputs": [
        {
          "output_type": "stream",
          "name": "stdout",
          "text": [
            "Downloading data from https://storage.googleapis.com/tensorflow/tf-keras-datasets/train-labels-idx1-ubyte.gz\n",
            "32768/29515 [=================================] - 0s 0us/step\n",
            "40960/29515 [=========================================] - 0s 0us/step\n",
            "Downloading data from https://storage.googleapis.com/tensorflow/tf-keras-datasets/train-images-idx3-ubyte.gz\n",
            "26427392/26421880 [==============================] - 0s 0us/step\n",
            "26435584/26421880 [==============================] - 0s 0us/step\n",
            "Downloading data from https://storage.googleapis.com/tensorflow/tf-keras-datasets/t10k-labels-idx1-ubyte.gz\n",
            "16384/5148 [===============================================================================================] - 0s 0us/step\n",
            "Downloading data from https://storage.googleapis.com/tensorflow/tf-keras-datasets/t10k-images-idx3-ubyte.gz\n",
            "4423680/4422102 [==============================] - 0s 0us/step\n",
            "4431872/4422102 [==============================] - 0s 0us/step\n"
          ]
        }
      ]
    },
    {
      "cell_type": "markdown",
      "source": [
        "##### 이미지 픽셀값을 0~ 255 범위에서 0~1 사이로 변환하고\n",
        "##### 28 * 28 크기의 2차원 배열을 784 크기의 1차원 배열로 펼친다\n",
        "##### sklearn의 train_test_split()함수로 훈련세트와 검증세트로 나눈다"
      ],
      "metadata": {
        "id": "WKzlo8Vo0DDV"
      }
    },
    {
      "cell_type": "code",
      "source": [
        "from sklearn.model_selection import train_test_split\n",
        "train_scaled = train_input / 255.0\n",
        "train_scaled = train_scaled.reshape(-1, 28*28)\n",
        "train_scaled, val_scaled, train_target, val_target = train_test_split(\n",
        "    train_scaled, train_target, test_size =0.2, random_state =42\n",
        ")"
      ],
      "metadata": {
        "id": "kJiP4gXp0hns"
      },
      "execution_count": 3,
      "outputs": []
    },
    {
      "cell_type": "code",
      "source": [
        "# 시그모이드 활성화 함수를 사용한 은닉층 만들기\n",
        "# 소프트 맥스 함수를 사용한 출력층 만들기\n",
        "# 중요 : 케라스에서 신경망의 첫 번째 층은 input_shape 매개변수로 입력크기를 꼭 지정해 주어야 함\n",
        "dense1 = keras.layers.Dense(100, activation = 'sigmoid', input_shape = (784,))\n",
        "dense2 = keras.layers.Dense(10, activation = 'softmax')"
      ],
      "metadata": {
        "id": "-VFcGSFf0nhd"
      },
      "execution_count": 4,
      "outputs": []
    },
    {
      "cell_type": "markdown",
      "source": [
        "### 심층 신경망 만들기\n",
        "\n",
        "dense1 과 dense2 객체를 Sequential 클래스에 추가해서 심층 신경망 DNN 만들기\n"
      ],
      "metadata": {
        "id": "iZUCVx4jG_wR"
      }
    },
    {
      "cell_type": "code",
      "source": [
        "model = keras.Sequential([dense1,dense2])"
      ],
      "metadata": {
        "id": "Zfpv-_GGJQV-"
      },
      "execution_count": 5,
      "outputs": []
    },
    {
      "cell_type": "markdown",
      "source": [
        "---\n",
        "## 참고\n",
        "##### 케라스는 모델의 summary를 호출하면 정보를 볼 수 있다"
      ],
      "metadata": {
        "id": "HqGZIY55J8Wt"
      }
    },
    {
      "cell_type": "code",
      "source": [
        "model.summary()"
      ],
      "metadata": {
        "colab": {
          "base_uri": "https://localhost:8080/"
        },
        "id": "cSoKu_XVKDGA",
        "outputId": "29921c87-8d07-4483-bcca-7a1dd9c7f074"
      },
      "execution_count": 6,
      "outputs": [
        {
          "output_type": "stream",
          "name": "stdout",
          "text": [
            "Model: \"sequential\"\n",
            "_________________________________________________________________\n",
            " Layer (type)                Output Shape              Param #   \n",
            "=================================================================\n",
            " dense (Dense)               (None, 100)               78500     \n",
            "                                                                 \n",
            " dense_1 (Dense)             (None, 10)                1010      \n",
            "                                                                 \n",
            "=================================================================\n",
            "Total params: 79,510\n",
            "Trainable params: 79,510\n",
            "Non-trainable params: 0\n",
            "_________________________________________________________________\n"
          ]
        }
      ]
    },
    {
      "cell_type": "markdown",
      "source": [
        "##### 층을 추가하는 다른 방법\n",
        "\n",
        "Sequential 클래스에 층을 추가하는 다른방법\n",
        "##### 이전의 방식은 : Dense 클래스의 객체 dense1, dense2를 만들어 Sequential 클래스에 전달\n",
        "\n",
        "##### 이번 방식은 Sequential 클래스 생성자 안에서 바로 Dense 클래스의 객체를 만듬 -> 층을 한눈에 알아보기 쉬움, 그러나 조건에 따라 층을 추가할 수 없음"
      ],
      "metadata": {
        "id": "jJSAU8yvKEks"
      }
    },
    {
      "cell_type": "code",
      "source": [
        "model = keras.Sequential([\n",
        "    keras.layers.Dense(100, activation = 'sigmoid', input_shape = (784,),\n",
        "                       name = 'hidden'),\n",
        "    keras.layers.Dense(10, activation = 'softmax', name = 'output') # 층의 이름은 반드시 영문이어야 함\n",
        "    ], name = '패션MNIST모델') # 모델 이름은 한글로 해도 되지만"
      ],
      "metadata": {
        "id": "Zu_0G0_iMM14"
      },
      "execution_count": 7,
      "outputs": []
    },
    {
      "cell_type": "code",
      "source": [
        "model.summary()"
      ],
      "metadata": {
        "colab": {
          "base_uri": "https://localhost:8080/"
        },
        "id": "uSD5jAaUMl81",
        "outputId": "3c1f4b93-956b-4c9a-f08a-1b6b7c943b88"
      },
      "execution_count": 8,
      "outputs": [
        {
          "output_type": "stream",
          "name": "stdout",
          "text": [
            "Model: \"패션MNIST모델\"\n",
            "_________________________________________________________________\n",
            " Layer (type)                Output Shape              Param #   \n",
            "=================================================================\n",
            " hidden (Dense)              (None, 100)               78500     \n",
            "                                                                 \n",
            " output (Dense)              (None, 10)                1010      \n",
            "                                                                 \n",
            "=================================================================\n",
            "Total params: 79,510\n",
            "Trainable params: 79,510\n",
            "Non-trainable params: 0\n",
            "_________________________________________________________________\n"
          ]
        }
      ]
    },
    {
      "cell_type": "markdown",
      "source": [
        "#### 층을 추가하는 방법 : add()"
      ],
      "metadata": {
        "id": "4mc_xobENgCv"
      }
    },
    {
      "cell_type": "code",
      "source": [
        "model = keras.Sequential()\n",
        "model.add(keras.layers.Dense(100, activation = 'sigmoid', input_shape=(784,)))\n",
        "model.add(keras.layers.Dense(10, activation = 'softmax'))"
      ],
      "metadata": {
        "id": "XeN0BdAEN2E-"
      },
      "execution_count": 9,
      "outputs": []
    },
    {
      "cell_type": "code",
      "source": [
        "model.summary()"
      ],
      "metadata": {
        "colab": {
          "base_uri": "https://localhost:8080/"
        },
        "id": "g979Hcf1OJzu",
        "outputId": "e5c9c914-90c6-49f0-c905-0eb757fa1cdf"
      },
      "execution_count": 10,
      "outputs": [
        {
          "output_type": "stream",
          "name": "stdout",
          "text": [
            "Model: \"sequential_1\"\n",
            "_________________________________________________________________\n",
            " Layer (type)                Output Shape              Param #   \n",
            "=================================================================\n",
            " dense_2 (Dense)             (None, 100)               78500     \n",
            "                                                                 \n",
            " dense_3 (Dense)             (None, 10)                1010      \n",
            "                                                                 \n",
            "=================================================================\n",
            "Total params: 79,510\n",
            "Trainable params: 79,510\n",
            "Non-trainable params: 0\n",
            "_________________________________________________________________\n"
          ]
        }
      ]
    },
    {
      "cell_type": "markdown",
      "source": [
        "---"
      ],
      "metadata": {
        "id": "Aq6FwkdjOQxR"
      }
    },
    {
      "cell_type": "markdown",
      "source": [
        "### 모델 훈련 : compile(), fit()\n",
        "\n"
      ],
      "metadata": {
        "id": "s-VQw4eoOeU2"
      }
    },
    {
      "cell_type": "code",
      "source": [
        "model.compile(loss = 'sparse_categorical_crossentropy', metrics='accuracy')\n",
        "model.fit(train_scaled, train_target, epochs=5)"
      ],
      "metadata": {
        "colab": {
          "base_uri": "https://localhost:8080/"
        },
        "id": "BjG5qVAOOgmB",
        "outputId": "e1dfe7c2-e41d-49f7-82e9-b0e325d67c4d"
      },
      "execution_count": 11,
      "outputs": [
        {
          "output_type": "stream",
          "name": "stdout",
          "text": [
            "Epoch 1/5\n",
            "1500/1500 [==============================] - 6s 3ms/step - loss: 0.5586 - accuracy: 0.8106\n",
            "Epoch 2/5\n",
            "1500/1500 [==============================] - 3s 2ms/step - loss: 0.4064 - accuracy: 0.8545\n",
            "Epoch 3/5\n",
            "1500/1500 [==============================] - 3s 2ms/step - loss: 0.3732 - accuracy: 0.8649\n",
            "Epoch 4/5\n",
            "1500/1500 [==============================] - 4s 2ms/step - loss: 0.3508 - accuracy: 0.8729\n",
            "Epoch 5/5\n",
            "1500/1500 [==============================] - 3s 2ms/step - loss: 0.3332 - accuracy: 0.8794\n"
          ]
        },
        {
          "output_type": "execute_result",
          "data": {
            "text/plain": [
              "<keras.callbacks.History at 0x7f4600a0b6d0>"
            ]
          },
          "metadata": {},
          "execution_count": 11
        }
      ]
    },
    {
      "cell_type": "markdown",
      "source": [
        "---"
      ],
      "metadata": {
        "id": "-2ITHEFQO0r8"
      }
    },
    {
      "cell_type": "markdown",
      "source": [
        "###ReLu 함수 : 이미지 분류 문제에서 높은 성능을 내는 활성화 함수"
      ],
      "metadata": {
        "id": "oM7oKUSGO_dT"
      }
    },
    {
      "cell_type": "markdown",
      "source": [
        "##### 층이 많은 심층 신경망일수록 좋음\n",
        "#####입력 양수 : 활성화 함수가 없는 것처럼 그냥 입력을 통과\n",
        "##### 입력 음수 : 0으로 만든다.\n",
        "\n",
        "### max(0,z)  \n",
        "#####0보다 크면 z 를 출력\n",
        "#####0보다 작으면 0을 출력\n",
        "\n"
      ],
      "metadata": {
        "id": "ad3xicNAPGVq"
      }
    },
    {
      "cell_type": "markdown",
      "source": [
        "--- "
      ],
      "metadata": {
        "id": "-jHZLzOE9jZf"
      }
    },
    {
      "cell_type": "markdown",
      "source": [
        "케라스의 Flatten 층 : 1차원 배열을 일렬로 펼치는 역할을 함\n",
        "##### 성능에 기여하는 바는 없으나, 입력층과 은닉층 사이에 추가하기 때문에 층이라고 부름"
      ],
      "metadata": {
        "id": "oLlaGjHF9tds"
      }
    },
    {
      "cell_type": "code",
      "source": [
        "#층 만들기\n",
        "model = keras.Sequential()\n",
        "model.add(keras.layers.Flatten(input_shape=(28,28)))\n",
        "model.add(keras.layers.Dense(100, activation='relu'))\n",
        "model.add(keras.layers.Dense(10, activation='softmax'))"
      ],
      "metadata": {
        "id": "QkPiZ4o694tp"
      },
      "execution_count": 12,
      "outputs": []
    },
    {
      "cell_type": "code",
      "source": [
        "model.summary()"
      ],
      "metadata": {
        "id": "DBMunFxI-4pn"
      },
      "execution_count": 12,
      "outputs": []
    },
    {
      "cell_type": "code",
      "source": [
        "# 데이터 준비\n",
        "(train_input, train_target), (test_input, test_target) =\\\n",
        "  keras.datasets.fashion_mnist.load_data()\n",
        "train_scaled = train_input / 255.0\n",
        "train_scaled, val_scaled, train_target, val_target = train_test_split(\n",
        "    train_scaled, train_target, test_size=0.2, random_state = 42\n",
        ")"
      ],
      "metadata": {
        "id": "10alrql7--oN"
      },
      "execution_count": 14,
      "outputs": []
    },
    {
      "cell_type": "code",
      "source": [
        "model.compile(loss='sparse_categorical_crossentropy', metrics='accuracy')\n",
        "model.fit(train_scaled, train_target, epochs=5)"
      ],
      "metadata": {
        "colab": {
          "base_uri": "https://localhost:8080/"
        },
        "id": "VTWWptjt_wyH",
        "outputId": "70abf893-9e48-4c78-80fc-eb5ec32c689d"
      },
      "execution_count": 16,
      "outputs": [
        {
          "output_type": "stream",
          "name": "stdout",
          "text": [
            "Epoch 1/5\n",
            "1500/1500 [==============================] - 4s 2ms/step - loss: 0.5280 - accuracy: 0.8137\n",
            "Epoch 2/5\n",
            "1500/1500 [==============================] - 4s 2ms/step - loss: 0.3948 - accuracy: 0.8593\n",
            "Epoch 3/5\n",
            "1500/1500 [==============================] - 3s 2ms/step - loss: 0.3544 - accuracy: 0.8723\n",
            "Epoch 4/5\n",
            "1500/1500 [==============================] - 3s 2ms/step - loss: 0.3331 - accuracy: 0.8814\n",
            "Epoch 5/5\n",
            "1500/1500 [==============================] - 3s 2ms/step - loss: 0.3183 - accuracy: 0.8851\n"
          ]
        },
        {
          "output_type": "execute_result",
          "data": {
            "text/plain": [
              "<keras.callbacks.History at 0x7f460073e650>"
            ]
          },
          "metadata": {},
          "execution_count": 16
        }
      ]
    },
    {
      "cell_type": "markdown",
      "source": [
        "시그모이드 함수보다 아주 조금 성능이 향상"
      ],
      "metadata": {
        "id": "FPn0OFzQBSwH"
      }
    },
    {
      "cell_type": "code",
      "source": [
        "# 검증 세트도 성능 확인\n",
        "model.evaluate(val_scaled, val_target)"
      ],
      "metadata": {
        "colab": {
          "base_uri": "https://localhost:8080/"
        },
        "id": "n1iGfqUdAE3q",
        "outputId": "4ad1d0c2-c3fa-4048-b395-06605cbe3a39"
      },
      "execution_count": 17,
      "outputs": [
        {
          "output_type": "stream",
          "name": "stdout",
          "text": [
            "375/375 [==============================] - 1s 2ms/step - loss: 0.3511 - accuracy: 0.8796\n"
          ]
        },
        {
          "output_type": "execute_result",
          "data": {
            "text/plain": [
              "[0.351073682308197, 0.8795833587646484]"
            ]
          },
          "metadata": {},
          "execution_count": 17
        }
      ]
    },
    {
      "cell_type": "markdown",
      "source": [
        "---"
      ],
      "metadata": {
        "id": "_xJ190OVBWYB"
      }
    },
    {
      "cell_type": "markdown",
      "source": [
        "##### 옵티마이저\n",
        "\n",
        ": 케라스는 여러종류의 경사하강법 알고리즘 제공\n",
        "#####  ex) SGD(미니배치 경사 하강법)\n",
        "\n",
        "##### 하이퍼 파라미터\n",
        "#####: 뉴런개수, 활성화함수, 층의 종류,batch_size, epochs\n"
      ],
      "metadata": {
        "id": "gowgNpjzBeSd"
      }
    },
    {
      "cell_type": "markdown",
      "source": [
        "---"
      ],
      "metadata": {
        "id": "xIiAdtoVHtrl"
      }
    },
    {
      "cell_type": "code",
      "source": [
        "###  SGD 옵티마이저\n",
        "model.compile(optimizer = 'sgd', loss='sparse_categorical_crossentropy', metrics = 'accuracy')"
      ],
      "metadata": {
        "id": "dWESlpNbHO_3"
      },
      "execution_count": 18,
      "outputs": []
    },
    {
      "cell_type": "code",
      "source": [
        "### SGD 옵티마이저 (원래방법)\n",
        "sgd = keras.optimizers.SGD() # 객체 생성해줘야하지만 걍 opimizer =sgd하면 객체 자동 생성됨\n",
        "model.compile(optimizer=sgd, loss='sparse_categorical_crossentropy', metrics = 'accuracy')\n",
        "sgd = keras.optimizers.SGD(learning_rate = 0.1) # SGD 의 학습률 변경하는 방법 default 0.01"
      ],
      "metadata": {
        "id": "gMau5VAtHYhj"
      },
      "execution_count": 20,
      "outputs": []
    },
    {
      "cell_type": "markdown",
      "source": [
        "---\n",
        "## 다양한 옵티마이저\n",
        "### 기본 경사 하강법 옵티마이저\n",
        "##### SGD : learning rate = 0.01 \n",
        "##### 모멘텀 : momentum > 0\n",
        "##### 네스테로프 모멘텀 : nesterov = True ( 모멘텀 최적화를 2번 반복)\n",
        "\n",
        "### 적응적 학습률 옵티마이저\n",
        "##### RMSprop : learning_rate = 0.001 \n",
        "##### Adam\n",
        "##### Adagrad"
      ],
      "metadata": {
        "id": "tRYeecxSILdl"
      }
    },
    {
      "cell_type": "code",
      "source": [
        "### 네스테로프 모멘텀\n",
        "sgd = keras.optimizers.SGD(momentum=0.9, nesterov = True)"
      ],
      "metadata": {
        "id": "s0LcN-JvKGC7"
      },
      "execution_count": 21,
      "outputs": []
    },
    {
      "cell_type": "code",
      "source": [
        "### adagrad \n",
        "adagrad = keras.optimizers.Adagrad()\n",
        "model.compile(optimizer = adagrad, loss = 'sparse_categorical_crossentropy', metrics = 'accuracy')"
      ],
      "metadata": {
        "id": "RNreyTyBKQpv"
      },
      "execution_count": 24,
      "outputs": []
    },
    {
      "cell_type": "code",
      "source": [
        "### RMSprop\n",
        "rmsprop = keras.optimizers.RMSprop()\n",
        "model.compile(optimizer = rmsprop, loss = 'sparse_categorical_crossentropy', metrics = 'accuracy')"
      ],
      "metadata": {
        "id": "zH7VYSXvLbNC"
      },
      "execution_count": 26,
      "outputs": []
    },
    {
      "cell_type": "code",
      "source": [
        "### adam 아담으로 훈련할 거임\n",
        "model = keras.Sequential()\n",
        "model.add(keras.layers.Flatten(input_shape=(28,28)))\n",
        "model.add(keras.layers.Dense(100, activation='relu'))\n",
        "model.add(keras.layers.Dense(10, activation= 'softmax'))"
      ],
      "metadata": {
        "id": "qc75LfQgLyNg"
      },
      "execution_count": 31,
      "outputs": []
    },
    {
      "cell_type": "code",
      "source": [
        "### 에포크 5로 설정후 훈련\n",
        "model.compile(optimizer = 'adam', loss='sparse_categorical_crossentropy',\n",
        "              metrics='accuracy')\n",
        "model.fit(train_scaled, train_target, epochs =5)\n",
        "### RMSprop을 사용했을 떄와 거의 같은 성능을 보임"
      ],
      "metadata": {
        "colab": {
          "base_uri": "https://localhost:8080/"
        },
        "id": "BO6_rQSaMSTG",
        "outputId": "e6efc9b2-5114-41c1-e76a-5f6c07859409"
      },
      "execution_count": 32,
      "outputs": [
        {
          "output_type": "stream",
          "name": "stdout",
          "text": [
            "Epoch 1/5\n",
            "1500/1500 [==============================] - 5s 3ms/step - loss: 0.5238 - accuracy: 0.8168\n",
            "Epoch 2/5\n",
            "1500/1500 [==============================] - 4s 2ms/step - loss: 0.3967 - accuracy: 0.8588\n",
            "Epoch 3/5\n",
            "1500/1500 [==============================] - 3s 2ms/step - loss: 0.3572 - accuracy: 0.8718\n",
            "Epoch 4/5\n",
            "1500/1500 [==============================] - 3s 2ms/step - loss: 0.3311 - accuracy: 0.8781\n",
            "Epoch 5/5\n",
            "1500/1500 [==============================] - 3s 2ms/step - loss: 0.3110 - accuracy: 0.8844\n"
          ]
        },
        {
          "output_type": "execute_result",
          "data": {
            "text/plain": [
              "<keras.callbacks.History at 0x7f460033ec50>"
            ]
          },
          "metadata": {},
          "execution_count": 32
        }
      ]
    },
    {
      "cell_type": "code",
      "source": [
        "# 검증세트에서의 성능도 확인\n",
        "model.evaluate(val_scaled, val_target)"
      ],
      "metadata": {
        "colab": {
          "base_uri": "https://localhost:8080/"
        },
        "id": "8B5liqYDNBGJ",
        "outputId": "e6be27fc-a7ef-4772-fdcb-e8a58a199939"
      },
      "execution_count": 33,
      "outputs": [
        {
          "output_type": "stream",
          "name": "stdout",
          "text": [
            "375/375 [==============================] - 1s 2ms/step - loss: 0.3464 - accuracy: 0.8763\n"
          ]
        },
        {
          "output_type": "execute_result",
          "data": {
            "text/plain": [
              "[0.34641897678375244, 0.8762500286102295]"
            ]
          },
          "metadata": {},
          "execution_count": 33
        }
      ]
    }
  ]
}